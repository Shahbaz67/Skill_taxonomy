{
  "nbformat": 4,
  "nbformat_minor": 0,
  "metadata": {
    "colab": {
      "name": "Skill Taxonomy",
      "provenance": [],
      "mount_file_id": "1-Mq57MgBGGJqhvw8vwk8BcyBnVTPtF89",
      "authorship_tag": "ABX9TyMLzgbVu8qev7CUmPM94FKQ",
      "include_colab_link": true
    },
    "kernelspec": {
      "name": "python3",
      "display_name": "Python 3"
    }
  },
  "cells": [
    {
      "cell_type": "markdown",
      "metadata": {
        "id": "view-in-github",
        "colab_type": "text"
      },
      "source": [
        "<a href=\"https://colab.research.google.com/github/Shahbaz67/Skill_taxonomy/blob/main/Skill_Taxonomy.ipynb\" target=\"_parent\"><img src=\"https://colab.research.google.com/assets/colab-badge.svg\" alt=\"Open In Colab\"/></a>"
      ]
    },
    {
      "cell_type": "code",
      "metadata": {
        "id": "Witzkwerzd3L"
      },
      "source": [
        "from glove import Corpus, Glove\n",
        "import PyPDF2 as pdf\n",
        "import re\n",
        "import numpy as np\n",
        "from gensim.models import Word2Vec\n",
        "import nltk\n",
        "from gensim.utils import simple_preprocess\n",
        "from gensim.parsing.preprocessing import STOPWORDS\n",
        "from gensim.parsing.preprocessing import remove_stopwords, stem_text\n",
        "from nltk.stem import WordNetLemmatizer, SnowballStemmer\n",
        "from nltk.stem.porter import *\n",
        "from google.colab import files"
      ],
      "execution_count": null,
      "outputs": []
    },
    {
      "cell_type": "code",
      "metadata": {
        "colab": {
          "base_uri": "https://localhost:8080/"
        },
        "id": "pbDtikYdtWAX",
        "outputId": "63fce47f-2b98-42fe-e515-4a59143447f7"
      },
      "source": [
        "from google.colab import drive\n",
        "drive.mount('/content/drive')"
      ],
      "execution_count": null,
      "outputs": [
        {
          "output_type": "stream",
          "text": [
            "Drive already mounted at /content/drive; to attempt to forcibly remount, call drive.mount(\"/content/drive\", force_remount=True).\n"
          ],
          "name": "stdout"
        }
      ]
    },
    {
      "cell_type": "code",
      "metadata": {
        "id": "SDmRhj6quvVW"
      },
      "source": [
        "file = open('/NCO - 2015_Full.pdf', 'rb')\n",
        "pdf_reader = pdf.PdfFileReader(file)"
      ],
      "execution_count": null,
      "outputs": []
    },
    {
      "cell_type": "code",
      "metadata": {
        "id": "0SABJKOJ7itQ"
      },
      "source": [
        "skill_set = ['researching', 'analysing', 'managing','evaluating', 'planning', 'negotiating', 'coordinating', 'organising', 'teaching' 'selling', 'advertising', 'calculating', 'bookkeeping', 'correcting data', 'operating', 'repairing', 'serving']"
      ],
      "execution_count": null,
      "outputs": []
    },
    {
      "cell_type": "code",
      "metadata": {
        "colab": {
          "base_uri": "https://localhost:8080/"
        },
        "id": "ROXqjoxtvLz9",
        "outputId": "941d73b8-b26f-447d-b3fe-8a52fe44dd30"
      },
      "source": [
        "pdf_reader.numPages"
      ],
      "execution_count": null,
      "outputs": [
        {
          "output_type": "execute_result",
          "data": {
            "text/plain": [
              "1519"
            ]
          },
          "metadata": {
            "tags": []
          },
          "execution_count": 28
        }
      ]
    },
    {
      "cell_type": "code",
      "metadata": {
        "id": "8zk1kzPsv3Sk"
      },
      "source": [
        "# making the list of occupation description\n",
        "def Dataset(pdf_reader):\n",
        "    start = 367\n",
        "    i = 0\n",
        "    occ_code = []\n",
        "    occ_description = []\n",
        "    page = []\n",
        "    text = \"\"\n",
        "    while(start != 1519):\n",
        "        page = pdf_reader.getPage(start)\n",
        "        page_extract = page.extractText()\n",
        "        new_page = page_extract\n",
        "        new_page = new_page.replace(\"\\n\", \"\")\n",
        "        new_page = re.sub(' +', ' ', new_page)\n",
        "        new_page = re.sub(re.findall(r'[A-Z\\s-]*\\d{4}\\s[A-Z\\s]*\\d{3,4}\\s', new_page)[0], \"\", new_page)\n",
        "        text += new_page\n",
        "        start += 1\n",
        "        i += 1\n",
        "    res = re.compile(r'(\\d{4}\\.\\d{4})(.*?(?=ISCO))')\n",
        "    group = re.findall(res, text)\n",
        "    for x in group:\n",
        "        occ_code.append(x[0])\n",
        "        occ_description.append(x[1])\n",
        "    print(\"Number of occupations = {}\".format(len(group)))\n",
        "    # print(\"ISCO : {}\".format(len(re.findall(r'ISCO',text))))\n",
        "    return (occ_code, occ_description)"
      ],
      "execution_count": null,
      "outputs": []
    },
    {
      "cell_type": "code",
      "metadata": {
        "colab": {
          "base_uri": "https://localhost:8080/"
        },
        "id": "iK6t-NiFwzlL",
        "outputId": "8f7b45c6-634d-4048-f59e-6182658eea74"
      },
      "source": [
        "occ_code, occ_description = Dataset(pdf_reader)"
      ],
      "execution_count": null,
      "outputs": [
        {
          "output_type": "stream",
          "text": [
            "Number of occupations = 3447\n"
          ],
          "name": "stdout"
        }
      ]
    },
    {
      "cell_type": "code",
      "metadata": {
        "id": "X5tx3Staw2Tq"
      },
      "source": [
        "# Text cleaning using nltk\n",
        "sentences = []\n",
        "for w in occ_description:\n",
        "    words = w.lower()\n",
        "    words = re.sub('[\\.,-:;\\'/\\\\)\\\\(]', ' ', words)\n",
        "    words = remove_stopwords(words)\n",
        "    wnl = WordNetLemmatizer()\n",
        "    words = wnl.lemmatize(words)\n",
        "    sentences.append(words.split())"
      ],
      "execution_count": null,
      "outputs": []
    },
    {
      "cell_type": "code",
      "metadata": {
        "id": "jUj2Fg1kw7rP"
      },
      "source": [
        "# Word2vec\n",
        "model = Word2Vec(sentences = sentences, size = 100, sg = 1, window = 3, min_count = 1, iter = 10, workers = 3)"
      ],
      "execution_count": null,
      "outputs": []
    },
    {
      "cell_type": "code",
      "metadata": {
        "id": "I9ZZSlOPwap6"
      },
      "source": [
        "model.save('word2vec_model')\n",
        "model = Word2Vec.load('word2vec_model')"
      ],
      "execution_count": null,
      "outputs": []
    },
    {
      "cell_type": "code",
      "metadata": {
        "colab": {
          "base_uri": "https://localhost:8080/"
        },
        "id": "rm_qZVi4xM7u",
        "outputId": "156a9da6-096e-4cca-a27a-98809d230bb9"
      },
      "source": [
        "model.most_similar('researching')"
      ],
      "execution_count": null,
      "outputs": [
        {
          "output_type": "stream",
          "text": [
            "DeprecationWarning: Call to deprecated `most_similar` (Method will be removed in 4.0.0, use self.wv.most_similar() instead). [ipykernel_launcher.py:1]\n",
            "FutureWarning: Conversion of the second argument of issubdtype from `int` to `np.signedinteger` is deprecated. In future, it will be treated as `np.int64 == np.dtype(int).type`. [matutils.py:737]\n"
          ],
          "name": "stderr"
        },
        {
          "output_type": "execute_result",
          "data": {
            "text/plain": [
              "[('opinions', 0.9876055717468262),\n",
              " ('era', 0.9862070083618164),\n",
              " ('prioritise', 0.9861675500869751),\n",
              " ('correlations', 0.985716700553894),\n",
              " ('techno', 0.9854756593704224),\n",
              " ('urges', 0.9847025871276855),\n",
              " ('grievance', 0.9845303893089294),\n",
              " ('strenuous', 0.9843680262565613),\n",
              " ('courseware', 0.984313428401947),\n",
              " ('organismic', 0.984301745891571)]"
            ]
          },
          "metadata": {
            "tags": []
          },
          "execution_count": 96
        }
      ]
    }
  ]
}